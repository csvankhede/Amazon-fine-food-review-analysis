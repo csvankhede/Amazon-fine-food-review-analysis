{
 "cells": [
  {
   "cell_type": "code",
   "execution_count": 0,
   "metadata": {
    "colab": {},
    "colab_type": "code",
    "id": "REYPoTJ1Af7u"
   },
   "outputs": [],
   "source": [
    "import warnings\n",
    "warnings.filterwarnings(\"ignore\")\n",
    "from sklearn.datasets import load_boston\n",
    "from random import seed\n",
    "from random import randrange\n",
    "from csv import reader\n",
    "from math import sqrt\n",
    "from sklearn import preprocessing\n",
    "import pandas as pd\n",
    "import numpy as np\n",
    "import matplotlib.pyplot as plt\n",
    "from prettytable import PrettyTable\n",
    "from sklearn.linear_model import SGDRegressor\n",
    "from sklearn import preprocessing\n",
    "from sklearn.metrics import mean_squared_error\n",
    "from sklearn.model_selection import train_test_split"
   ]
  },
  {
   "cell_type": "code",
   "execution_count": 0,
   "metadata": {
    "colab": {},
    "colab_type": "code",
    "id": "NTQ2iH-kAwbo"
   },
   "outputs": [],
   "source": [
    "boston = load_boston()\n",
    "X = boston.data\n",
    "Y = boston.target"
   ]
  },
  {
   "cell_type": "code",
   "execution_count": 92,
   "metadata": {
    "colab": {
     "base_uri": "https://localhost:8080/",
     "height": 52
    },
    "colab_type": "code",
    "id": "3pdejNWJXSnS",
    "outputId": "a2b14d56-0a4a-4d0f-b0b7-c7a29fbaf88a"
   },
   "outputs": [
    {
     "data": {
      "text/plain": [
       "array(['CRIM', 'ZN', 'INDUS', 'CHAS', 'NOX', 'RM', 'AGE', 'DIS', 'RAD',\n",
       "       'TAX', 'PTRATIO', 'B', 'LSTAT'], dtype='<U7')"
      ]
     },
     "execution_count": 92,
     "metadata": {
      "tags": []
     },
     "output_type": "execute_result"
    }
   ],
   "source": [
    "boston.feature_names"
   ]
  },
  {
   "cell_type": "code",
   "execution_count": 0,
   "metadata": {
    "colab": {},
    "colab_type": "code",
    "id": "_Q0iJ4jDPfTp"
   },
   "outputs": [],
   "source": [
    "X_train,X_test,y_train,y_test = train_test_split(X,Y,test_size=.33,random_state=0)"
   ]
  },
  {
   "cell_type": "code",
   "execution_count": 0,
   "metadata": {
    "colab": {},
    "colab_type": "code",
    "id": "FgUW39s6Be0U"
   },
   "outputs": [],
   "source": [
    "scaler = preprocessing.StandardScaler()\n",
    "X_train = scaler.fit_transform(np.array(X_train))\n",
    "X_test = scaler.transform(np.array(X_test))\n"
   ]
  },
  {
   "cell_type": "code",
   "execution_count": 95,
   "metadata": {
    "colab": {
     "base_uri": "https://localhost:8080/",
     "height": 87
    },
    "colab_type": "code",
    "id": "U0pMa4TPP4v-",
    "outputId": "959995c9-7fe0-44d7-967b-7b3b1bac36e1"
   },
   "outputs": [
    {
     "name": "stdout",
     "output_type": "stream",
     "text": [
      "X_train shape:  (339, 13)\n",
      "y_train shape:  (339,)\n",
      "X_test shape:  (167, 13)\n",
      "y_test shape:  (167,)\n"
     ]
    }
   ],
   "source": [
    "print(\"X_train shape: \",X_train.shape)\n",
    "print(\"y_train shape: \",y_train.shape)\n",
    "print(\"X_test shape: \",X_test.shape)\n",
    "print(\"y_test shape: \",y_test.shape)"
   ]
  },
  {
   "cell_type": "code",
   "execution_count": 96,
   "metadata": {
    "colab": {
     "base_uri": "https://localhost:8080/",
     "height": 148
    },
    "colab_type": "code",
    "id": "gETEbsxdTBpJ",
    "outputId": "1e007f5a-92f3-471f-e7ef-fb703cdf04ec"
   },
   "outputs": [
    {
     "data": {
      "text/html": [
       "<div>\n",
       "<style scoped>\n",
       "    .dataframe tbody tr th:only-of-type {\n",
       "        vertical-align: middle;\n",
       "    }\n",
       "\n",
       "    .dataframe tbody tr th {\n",
       "        vertical-align: top;\n",
       "    }\n",
       "\n",
       "    .dataframe thead th {\n",
       "        text-align: right;\n",
       "    }\n",
       "</style>\n",
       "<table border=\"1\" class=\"dataframe\">\n",
       "  <thead>\n",
       "    <tr style=\"text-align: right;\">\n",
       "      <th></th>\n",
       "      <th>CRIM</th>\n",
       "      <th>ZN</th>\n",
       "      <th>INDUS</th>\n",
       "      <th>CHAS</th>\n",
       "      <th>NOX</th>\n",
       "      <th>RM</th>\n",
       "      <th>AGE</th>\n",
       "      <th>DIS</th>\n",
       "      <th>RAD</th>\n",
       "      <th>TAX</th>\n",
       "      <th>PTRATIO</th>\n",
       "      <th>B</th>\n",
       "      <th>LSTAT</th>\n",
       "      <th>price</th>\n",
       "    </tr>\n",
       "  </thead>\n",
       "  <tbody>\n",
       "    <tr>\n",
       "      <th>0</th>\n",
       "      <td>-0.400693</td>\n",
       "      <td>0.548889</td>\n",
       "      <td>-0.899201</td>\n",
       "      <td>-0.269787</td>\n",
       "      <td>-1.133607</td>\n",
       "      <td>0.435142</td>\n",
       "      <td>0.051507</td>\n",
       "      <td>0.810611</td>\n",
       "      <td>-0.630958</td>\n",
       "      <td>-0.723425</td>\n",
       "      <td>0.249823</td>\n",
       "      <td>0.413205</td>\n",
       "      <td>-0.736127</td>\n",
       "      <td>23.9</td>\n",
       "    </tr>\n",
       "    <tr>\n",
       "      <th>1</th>\n",
       "      <td>0.129731</td>\n",
       "      <td>-0.500121</td>\n",
       "      <td>1.003242</td>\n",
       "      <td>-0.269787</td>\n",
       "      <td>1.827802</td>\n",
       "      <td>0.121731</td>\n",
       "      <td>0.678800</td>\n",
       "      <td>-0.590760</td>\n",
       "      <td>1.655464</td>\n",
       "      <td>1.520131</td>\n",
       "      <td>0.788964</td>\n",
       "      <td>0.165473</td>\n",
       "      <td>-0.654683</td>\n",
       "      <td>25.0</td>\n",
       "    </tr>\n",
       "    <tr>\n",
       "      <th>2</th>\n",
       "      <td>1.169737</td>\n",
       "      <td>-0.500121</td>\n",
       "      <td>1.003242</td>\n",
       "      <td>-0.269787</td>\n",
       "      <td>1.164929</td>\n",
       "      <td>-0.602944</td>\n",
       "      <td>0.917599</td>\n",
       "      <td>-0.948626</td>\n",
       "      <td>1.655464</td>\n",
       "      <td>1.520131</td>\n",
       "      <td>0.788964</td>\n",
       "      <td>0.428137</td>\n",
       "      <td>0.568412</td>\n",
       "      <td>12.7</td>\n",
       "    </tr>\n",
       "  </tbody>\n",
       "</table>\n",
       "</div>"
      ],
      "text/plain": [
       "       CRIM        ZN     INDUS      CHAS       NOX        RM       AGE  \\\n",
       "0 -0.400693  0.548889 -0.899201 -0.269787 -1.133607  0.435142  0.051507   \n",
       "1  0.129731 -0.500121  1.003242 -0.269787  1.827802  0.121731  0.678800   \n",
       "2  1.169737 -0.500121  1.003242 -0.269787  1.164929 -0.602944  0.917599   \n",
       "\n",
       "        DIS       RAD       TAX   PTRATIO         B     LSTAT  price  \n",
       "0  0.810611 -0.630958 -0.723425  0.249823  0.413205 -0.736127   23.9  \n",
       "1 -0.590760  1.655464  1.520131  0.788964  0.165473 -0.654683   25.0  \n",
       "2 -0.948626  1.655464  1.520131  0.788964  0.428137  0.568412   12.7  "
      ]
     },
     "execution_count": 96,
     "metadata": {
      "tags": []
     },
     "output_type": "execute_result"
    }
   ],
   "source": [
    "train_df = pd.DataFrame(X_train, columns = boston.feature_names)\n",
    "train_df[\"price\"] = y_train\n",
    "test_df = pd.DataFrame(X_test, columns = boston.feature_names)\n",
    "test_df[\"price\"] = y_test\n",
    "train_df.head(3)"
   ]
  },
  {
   "cell_type": "code",
   "execution_count": 0,
   "metadata": {
    "colab": {},
    "colab_type": "code",
    "id": "n72dwiqqQVIw"
   },
   "outputs": [],
   "source": [
    "# SGD from scrach\n",
    "#initialize the value of w, b and r\n",
    "def sgd_opt(X_train,y_train):\n",
    "  \n",
    "  r = 0.1\n",
    "  w = np.zeros(13)\n",
    "  b = 0 \n",
    "  k = 50\n",
    "  for j in range(1,1000):\n",
    "    e = 0\n",
    "    W_temp = np.zeros(13)\n",
    "    b_temp = 0\n",
    "\n",
    "    #sample data into k size batch randomly\n",
    "    data = train_df.sample(k)\n",
    "    x = np.array(data.drop('price', axis = 1))\n",
    "    y = np.array(data['price'])\n",
    "\n",
    "    for i in range(k):\n",
    "\n",
    "      loss = y[i]-np.dot(w,x[i])-b\n",
    "\n",
    "      W_temp = (-2) * (x[i]*(loss))\n",
    "      b_temp = (-2) * loss\n",
    "      w -= (r*(W_temp/k))\n",
    "      b -= (r*(b_temp/k))\n",
    "\n",
    "      e += loss**2\n",
    "    \n",
    "    \n",
    "    if j%500 == 0:\n",
    "      print(\"Epoch: {}, loss: {} \".format(j,e/k))\n",
    "\n",
    "  return w,b\n",
    "\n"
   ]
  },
  {
   "cell_type": "code",
   "execution_count": 182,
   "metadata": {
    "colab": {
     "base_uri": "https://localhost:8080/",
     "height": 105
    },
    "colab_type": "code",
    "id": "VbCEd54d0z2q",
    "outputId": "6c6f3050-9630-4de1-93a9-78de80c43fec"
   },
   "outputs": [
    {
     "name": "stdout",
     "output_type": "stream",
     "text": [
      "Epoch: 500, loss: 14.722672063412418 \n",
      "[-1.14332942  1.30478645 -0.01646313  0.41657651 -1.66045481  2.43841314\n",
      " -0.49263915 -3.46884248  2.34821353 -1.81339463 -2.21063135  0.70835745\n",
      " -4.08020371]\n",
      "22.894811876132664\n"
     ]
    }
   ],
   "source": [
    "w,b = sgd_opt(X_train,y_train)\n",
    "print(w)\n",
    "print(b)"
   ]
  },
  {
   "cell_type": "code",
   "execution_count": 0,
   "metadata": {
    "colab": {},
    "colab_type": "code",
    "id": "uH1kWN-5kqjB"
   },
   "outputs": [],
   "source": [
    "#linear regression\n",
    "def predict(X_test,w,b):\n",
    "  X_test = np.array(X_test)\n",
    "  y_pred = []\n",
    "  \n",
    "  for i in range(len(X_test)):\n",
    "    y_pred.append(np.asscalar(np.dot(w,X_test[i])+b))\n",
    "  \n",
    "  \n",
    "  return np.array(y_pred)\n",
    "  \n",
    "y_pred_tr = np.dot(train_df.drop('price',axis=1),w) + b"
   ]
  },
  {
   "cell_type": "code",
   "execution_count": 184,
   "metadata": {
    "colab": {
     "base_uri": "https://localhost:8080/",
     "height": 35
    },
    "colab_type": "code",
    "id": "yH-UVUmkl3FK",
    "outputId": "81e1360d-4c56-46b7-9fbf-011aafb7d55b"
   },
   "outputs": [
    {
     "name": "stdout",
     "output_type": "stream",
     "text": [
      "20.23029009037871\n"
     ]
    }
   ],
   "source": [
    "#MSE\n",
    "print(mean_squared_error(y_train,y_pred_tr))"
   ]
  },
  {
   "cell_type": "code",
   "execution_count": 165,
   "metadata": {
    "colab": {
     "base_uri": "https://localhost:8080/",
     "height": 283
    },
    "colab_type": "code",
    "id": "xEF6g21TlOsb",
    "outputId": "df8d0765-fc63-45af-a354-d985d72af46e"
   },
   "outputs": [
    {
     "data": {
      "image/png": "[encoded data removed]",
      "text/plain": [
       "<Figure size 432x288 with 1 Axes>"
      ]
     },
     "metadata": {
      "tags": []
     },
     "output_type": "display_data"
    }
   ],
   "source": [
    "plt.scatter(y_train,y_pred_tr)\n",
    "plt.xlabel(\"Actual price\")\n",
    "plt.ylabel(\"Predicted price\")\n",
    "plt.show()"
   ]
  },
  {
   "cell_type": "code",
   "execution_count": 0,
   "metadata": {
    "colab": {},
    "colab_type": "code",
    "id": "0fyKRknVq0fE"
   },
   "outputs": [],
   "source": [
    "#calculate for test data\n",
    "y_pred_te = predict(X_test,w.T,b)\n"
   ]
  },
  {
   "cell_type": "code",
   "execution_count": 167,
   "metadata": {
    "colab": {
     "base_uri": "https://localhost:8080/",
     "height": 35
    },
    "colab_type": "code",
    "id": "Lk5Cu1bhrt4x",
    "outputId": "47245163-1f91-4c70-85c9-c40792d9b95b"
   },
   "outputs": [
    {
     "name": "stdout",
     "output_type": "stream",
     "text": [
      "22.873688453140463\n"
     ]
    }
   ],
   "source": [
    "print(b)"
   ]
  },
  {
   "cell_type": "code",
   "execution_count": 168,
   "metadata": {
    "colab": {
     "base_uri": "https://localhost:8080/",
     "height": 35
    },
    "colab_type": "code",
    "id": "fM5wqheirTSN",
    "outputId": "305018b9-60c5-434f-c8b9-9d850d11d94b"
   },
   "outputs": [
    {
     "name": "stdout",
     "output_type": "stream",
     "text": [
      "26.82011750732191\n"
     ]
    }
   ],
   "source": [
    "#MSE for test data\n",
    "print(mean_squared_error(y_test,y_pred_te))"
   ]
  },
  {
   "cell_type": "code",
   "execution_count": 169,
   "metadata": {
    "colab": {
     "base_uri": "https://localhost:8080/",
     "height": 283
    },
    "colab_type": "code",
    "id": "1_TvkjZOr1O-",
    "outputId": "70f4aa88-2a5d-4f03-e794-97e249505ada"
   },
   "outputs": [
    {
     "data": {
      "image/png": "[encoded data removed]",
      "text/plain": [
       "<Figure size 432x288 with 1 Axes>"
      ]
     },
     "metadata": {
      "tags": []
     },
     "output_type": "display_data"
    }
   ],
   "source": [
    "plt.scatter(y_test,y_pred_te)\n",
    "plt.xlabel(\"Actual price\")\n",
    "plt.ylabel(\"Predicted price\")\n",
    "plt.show()"
   ]
  },
  {
   "cell_type": "code",
   "execution_count": 187,
   "metadata": {
    "colab": {
     "base_uri": "https://localhost:8080/",
     "height": 35
    },
    "colab_type": "code",
    "id": "HNu1sXtEBBS2",
    "outputId": "a6f2aea9-6cd5-4628-e790-6dc2cf552a95"
   },
   "outputs": [
    {
     "name": "stdout",
     "output_type": "stream",
     "text": [
      "20.793364926927733\n"
     ]
    }
   ],
   "source": [
    "clf = SGDRegressor(learning_rate='constant',eta0 = 0.01,n_iter_no_change=10000)\n",
    "clf.fit(X_train, y_train)\n",
    "y_pred_tr = clf.predict(X_train)\n",
    "print(mean_squared_error(y_train,y_pred_tr))"
   ]
  },
  {
   "cell_type": "code",
   "execution_count": 0,
   "metadata": {
    "colab": {},
    "colab_type": "code",
    "id": "qXw69gmMvdxW"
   },
   "outputs": [],
   "source": [
    "W_sklearn = clf.coef_\n",
    "b_sklearn = clf.intercept_[0]"
   ]
  },
  {
   "cell_type": "code",
   "execution_count": 189,
   "metadata": {
    "colab": {
     "base_uri": "https://localhost:8080/",
     "height": 283
    },
    "colab_type": "code",
    "id": "lkajvTqmuEpY",
    "outputId": "0a0a3f82-936b-41be-f50b-610af0150563"
   },
   "outputs": [
    {
     "data": {
      "image/png": "[encoded data removed]",
      "text/plain": [
       "<Figure size 432x288 with 1 Axes>"
      ]
     },
     "metadata": {
      "tags": []
     },
     "output_type": "display_data"
    }
   ],
   "source": [
    "plt.scatter(y_train,y_pred_tr)\n",
    "plt.xlabel(\"Actual price\")\n",
    "plt.ylabel(\"Predicted price\")\n",
    "plt.show()"
   ]
  },
  {
   "cell_type": "code",
   "execution_count": 190,
   "metadata": {
    "colab": {
     "base_uri": "https://localhost:8080/",
     "height": 35
    },
    "colab_type": "code",
    "id": "_8zBMxj0uOG_",
    "outputId": "2415a13b-9f09-4c97-9807-a806ee1bf4da"
   },
   "outputs": [
    {
     "name": "stdout",
     "output_type": "stream",
     "text": [
      "27.55916018550341\n"
     ]
    }
   ],
   "source": [
    "y_pred_te = clf.predict(X_test)\n",
    "print(mean_squared_error(y_test,y_pred_te))"
   ]
  },
  {
   "cell_type": "code",
   "execution_count": 191,
   "metadata": {
    "colab": {
     "base_uri": "https://localhost:8080/",
     "height": 283
    },
    "colab_type": "code",
    "id": "kOBraHfZuUn_",
    "outputId": "1eab3b45-f4b9-4483-84f1-19391803c5a9"
   },
   "outputs": [
    {
     "data": {
      "image/png": "[encoded data removed]",
      "text/plain": [
       "<Figure size 432x288 with 1 Axes>"
      ]
     },
     "metadata": {
      "tags": []
     },
     "output_type": "display_data"
    }
   ],
   "source": [
    "plt.scatter(y_test,y_pred_te)\n",
    "plt.xlabel(\"Actual price\")\n",
    "plt.ylabel(\"Predicted price\")\n",
    "plt.show()"
   ]
  },
  {
   "cell_type": "code",
   "execution_count": 192,
   "metadata": {
    "colab": {
     "base_uri": "https://localhost:8080/",
     "height": 473
    },
    "colab_type": "code",
    "id": "y1ELaORnuadf",
    "outputId": "66f9e94c-eb91-43e6-893e-88f134febe1b"
   },
   "outputs": [
    {
     "data": {
      "text/html": [
       "<div>\n",
       "<style scoped>\n",
       "    .dataframe tbody tr th:only-of-type {\n",
       "        vertical-align: middle;\n",
       "    }\n",
       "\n",
       "    .dataframe tbody tr th {\n",
       "        vertical-align: top;\n",
       "    }\n",
       "\n",
       "    .dataframe thead th {\n",
       "        text-align: right;\n",
       "    }\n",
       "</style>\n",
       "<table border=\"1\" class=\"dataframe\">\n",
       "  <thead>\n",
       "    <tr style=\"text-align: right;\">\n",
       "      <th></th>\n",
       "      <th>W</th>\n",
       "      <th>W_sklearn</th>\n",
       "    </tr>\n",
       "  </thead>\n",
       "  <tbody>\n",
       "    <tr>\n",
       "      <th>0</th>\n",
       "      <td>-1.143329</td>\n",
       "      <td>-0.983428</td>\n",
       "    </tr>\n",
       "    <tr>\n",
       "      <th>1</th>\n",
       "      <td>1.304786</td>\n",
       "      <td>0.808974</td>\n",
       "    </tr>\n",
       "    <tr>\n",
       "      <th>2</th>\n",
       "      <td>-0.016463</td>\n",
       "      <td>-0.170339</td>\n",
       "    </tr>\n",
       "    <tr>\n",
       "      <th>3</th>\n",
       "      <td>0.416577</td>\n",
       "      <td>1.270474</td>\n",
       "    </tr>\n",
       "    <tr>\n",
       "      <th>4</th>\n",
       "      <td>-1.660455</td>\n",
       "      <td>-1.721755</td>\n",
       "    </tr>\n",
       "    <tr>\n",
       "      <th>5</th>\n",
       "      <td>2.438413</td>\n",
       "      <td>2.722495</td>\n",
       "    </tr>\n",
       "    <tr>\n",
       "      <th>6</th>\n",
       "      <td>-0.492639</td>\n",
       "      <td>-0.445723</td>\n",
       "    </tr>\n",
       "    <tr>\n",
       "      <th>7</th>\n",
       "      <td>-3.468842</td>\n",
       "      <td>-3.119087</td>\n",
       "    </tr>\n",
       "    <tr>\n",
       "      <th>8</th>\n",
       "      <td>2.348214</td>\n",
       "      <td>1.563753</td>\n",
       "    </tr>\n",
       "    <tr>\n",
       "      <th>9</th>\n",
       "      <td>-1.813395</td>\n",
       "      <td>-1.140593</td>\n",
       "    </tr>\n",
       "    <tr>\n",
       "      <th>10</th>\n",
       "      <td>-2.210631</td>\n",
       "      <td>-2.314132</td>\n",
       "    </tr>\n",
       "    <tr>\n",
       "      <th>11</th>\n",
       "      <td>0.708357</td>\n",
       "      <td>0.762584</td>\n",
       "    </tr>\n",
       "    <tr>\n",
       "      <th>12</th>\n",
       "      <td>-4.080204</td>\n",
       "      <td>-4.025652</td>\n",
       "    </tr>\n",
       "  </tbody>\n",
       "</table>\n",
       "</div>"
      ],
      "text/plain": [
       "           W  W_sklearn\n",
       "0  -1.143329  -0.983428\n",
       "1   1.304786   0.808974\n",
       "2  -0.016463  -0.170339\n",
       "3   0.416577   1.270474\n",
       "4  -1.660455  -1.721755\n",
       "5   2.438413   2.722495\n",
       "6  -0.492639  -0.445723\n",
       "7  -3.468842  -3.119087\n",
       "8   2.348214   1.563753\n",
       "9  -1.813395  -1.140593\n",
       "10 -2.210631  -2.314132\n",
       "11  0.708357   0.762584\n",
       "12 -4.080204  -4.025652"
      ]
     },
     "execution_count": 192,
     "metadata": {
      "tags": []
     },
     "output_type": "execute_result"
    }
   ],
   "source": [
    "#compare results of both SGD\n",
    "w_df = pd.DataFrame(columns = ['W','W_sklearn'])\n",
    "w_df['W']= w\n",
    "w_df['W_sklearn'] = W_sklearn\n",
    "w_df"
   ]
  },
  {
   "cell_type": "code",
   "execution_count": 193,
   "metadata": {
    "colab": {
     "base_uri": "https://localhost:8080/",
     "height": 116
    },
    "colab_type": "code",
    "id": "iRbClKNMzLKJ",
    "outputId": "b7b7b7a3-e4e1-4144-a55e-37de34c7ce64"
   },
   "outputs": [
    {
     "data": {
      "text/html": [
       "<div>\n",
       "<style scoped>\n",
       "    .dataframe tbody tr th:only-of-type {\n",
       "        vertical-align: middle;\n",
       "    }\n",
       "\n",
       "    .dataframe tbody tr th {\n",
       "        vertical-align: top;\n",
       "    }\n",
       "\n",
       "    .dataframe thead th {\n",
       "        text-align: right;\n",
       "    }\n",
       "</style>\n",
       "<table border=\"1\" class=\"dataframe\">\n",
       "  <thead>\n",
       "    <tr style=\"text-align: right;\">\n",
       "      <th></th>\n",
       "      <th>MSE on train</th>\n",
       "      <th>MSE on test</th>\n",
       "      <th>b</th>\n",
       "    </tr>\n",
       "  </thead>\n",
       "  <tbody>\n",
       "    <tr>\n",
       "      <th>my SGD</th>\n",
       "      <td>20.230290</td>\n",
       "      <td>26.820118</td>\n",
       "      <td>22.873688</td>\n",
       "    </tr>\n",
       "    <tr>\n",
       "      <th>sklearn SGD</th>\n",
       "      <td>20.793365</td>\n",
       "      <td>27.559160</td>\n",
       "      <td>22.733110</td>\n",
       "    </tr>\n",
       "  </tbody>\n",
       "</table>\n",
       "</div>"
      ],
      "text/plain": [
       "             MSE on train  MSE on test          b\n",
       "my SGD          20.230290    26.820118  22.873688\n",
       "sklearn SGD     20.793365    27.559160  22.733110"
      ]
     },
     "execution_count": 193,
     "metadata": {
      "tags": []
     },
     "output_type": "execute_result"
    }
   ],
   "source": [
    "mse_df = pd.DataFrame([[20.23029009037871,\n",
    "26.82011750732191,22.873688453140463],[20.793364926927733,\n",
    "27.55916018550341,b_sklearn]],columns=['MSE on train','MSE on test','b'],index=['my SGD','sklearn SGD'])\n",
    "mse_df"
   ]
  },
  {
   "cell_type": "markdown",
   "metadata": {
    "colab_type": "text",
    "id": "-A-NKi0t0VnV"
   },
   "source": [
    "From above comparision  My SGD and sklearn SGD performes similar."
   ]
  },
  {
   "cell_type": "code",
   "execution_count": 0,
   "metadata": {
    "colab": {},
    "colab_type": "code",
    "id": "fy073SLGcbns"
   },
   "outputs": [],
   "source": []
  }
 ],
 "metadata": {
  "colab": {
   "collapsed_sections": [],
   "name": "06 Implement SGD.ipynb",
   "provenance": [],
   "version": "0.3.2"
  },
  "kernelspec": {
   "display_name": "Python 3",
   "name": "python3"
  }
 },
 "nbformat": 4,
 "nbformat_minor": 1
}
